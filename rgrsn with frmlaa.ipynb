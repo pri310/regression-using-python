{
 "cells": [
  {
   "cell_type": "code",
   "execution_count": 1,
   "metadata": {},
   "outputs": [
    {
     "name": "stdout",
     "output_type": "stream",
     "text": [
      "Rgrsn using OLS\n",
      "('\\nmean_Built-up-Area:', 1495.2142857142858)\n",
      "('mean_Price:', 58.159285714285716)\n",
      "('\\ncovariance (Built-up-Area,Price):', 320628.2421428571)\n",
      "('\\nSlope ,m : ', 0.035577929493154976)\n",
      "('\\nIntercept ,c : ', 4.962657279984775)\n",
      "('\\nRgrsn eqn ,y=', 0.035577929493154976, 'x +', 4.962657279984775)\n"
     ]
    }
   ],
   "source": [
    "import pandas as pd\n",
    "import numpy as np\n",
    "import matplotlib.pyplot as plt\n",
    "from sklearn.linear_model import LinearRegression\n",
    "import math\n",
    "\n",
    "Area=[504,743,752,813,906,1206,1446,1532,1606,1679,1906,1956,2106,3778]\n",
    "Price=[22.1,29.85,33,35.22,38,36,58.56,51.5,51,76,73,71,108,131]\n",
    "\n",
    "def mean(x):\n",
    "    sum = 0.0\n",
    "    for i in x:\n",
    "         sum+=i\n",
    "    return float(sum/len(x)) \n",
    "\n",
    "\n",
    "def variance(x):\n",
    "    sum_v = 0.0\n",
    "    for i in x:\n",
    "         sum_v+=(i-mean(x))**2\n",
    "    return sum_v\n",
    "\n",
    "def covariance(x,y):\n",
    "    cov_xy = []\n",
    "    for i,j in zip(x,y):\n",
    "        x1 = i-mean(x)\n",
    "        y1 = j-mean(y)\n",
    "        cov_xy.append(x1*y1)\n",
    "    cov = sum(cov_xy)   \n",
    "    return cov\n",
    "\n",
    "\n",
    "def slope(x, y):\n",
    "    slope = (covariance(x,y))/(variance(x))\n",
    "    return slope\n",
    "\n",
    "\n",
    "def Intercept(x, y):\n",
    "    c = mean(y)-(slope(x,y)*mean(x))\n",
    "    return c\n",
    "m=slope(Area,Price)\n",
    "c=Intercept(Area,Price)\n",
    "print (\"Rgrsn using OLS\")\n",
    "print(\"\\nmean_Built-up-Area:\",mean(Area))\n",
    "print(\"mean_Price:\",mean(Price))\n",
    "print(\"\\ncovariance (Built-up-Area,Price):\",covariance(Area,Price))\n",
    "print(\"\\nSlope ,m : \",m)\n",
    "print(\"\\nIntercept ,c : \",c)\n",
    "print(\"\\nRgrsn eqn ,y=\",m,\"x +\",c)"
   ]
  },
  {
   "cell_type": "code",
   "execution_count": 2,
   "metadata": {},
   "outputs": [
    {
     "name": "stdout",
     "output_type": "stream",
     "text": [
      "('built up area price for 1000 sq.ft:', 40.54058677313975, 'in Lakhs')\n"
     ]
    }
   ],
   "source": [
    "#calculate price for 1000sq.ft\n",
    "x=1000\n",
    "price=m*x+c\n",
    "print(\"built up area price for 1000 sq.ft:\",price,\"in Lakhs\")\n"
   ]
  },
  {
   "cell_type": "code",
   "execution_count": 4,
   "metadata": {},
   "outputs": [
    {
     "data": {
      "image/png": "[encoded data removed]",
      "text/plain": [
       "<Figure size 432x288 with 1 Axes>"
      ]
     },
     "metadata": {
      "needs_background": "light"
     },
     "output_type": "display_data"
    }
   ],
   "source": [
    "#scatter plot\n",
    "max_x = np.max(Area) + 100\n",
    "min_x = np.min(Price) - 100\n",
    "\n",
    "rx = np.linspace(min_x, max_x, 1000)\n",
    "ry = c + m * rx \n",
    " \n",
    "\n",
    "plt.plot(rx, ry, color='#0000FF', label='Regression Line')\n",
    "\n",
    "plt.scatter(Area, Price, c='#FFFF00', label='Scatter Plot')\n",
    " \n",
    "plt.xlabel('Area')\n",
    "plt.ylabel('Price')\n",
    "plt.legend()\n",
    "plt.show()"
   ]
  },
  {
   "cell_type": "code",
   "execution_count": null,
   "metadata": {},
   "outputs": [],
   "source": []
  }
 ],
 "metadata": {
  "kernelspec": {
   "display_name": "Python 2",
   "language": "python",
   "name": "python2"
  },
  "language_info": {
   "codemirror_mode": {
    "name": "ipython",
    "version": 2
   },
   "file_extension": ".py",
   "mimetype": "text/x-python",
   "name": "python",
   "nbconvert_exporter": "python",
   "pygments_lexer": "ipython2",
   "version": "2.7.16"
  }
 },
 "nbformat": 4,
 "nbformat_minor": 2
}
